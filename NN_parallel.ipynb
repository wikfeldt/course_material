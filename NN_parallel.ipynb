{
 "cells": [
  {
   "cell_type": "markdown",
   "metadata": {},
   "source": [
    "# Interactive parallel computing with ipyparallel"
   ]
  },
  {
   "cell_type": "markdown",
   "metadata": {},
   "source": [
    "ipyparallel is a Python package and collection of scripts for controlling clusters for Jupyter.\n",
    "\n",
    "ipyparallel contains the following scripts:\n",
    "\n",
    "- ipcluster - start/stop a cluster\n",
    "- ipcontroller - start a scheduler\n",
    "- ipengine - start an engine\n"
   ]
  },
  {
   "cell_type": "markdown",
   "metadata": {},
   "source": [
    "## Installing/activating ipyparallel"
   ]
  },
  {
   "cell_type": "markdown",
   "metadata": {},
   "source": [
    "- first install the package: `conda install ipyparallel`\n",
    "- to be able to launch parallel engines from the dashboard add `c.NotebookApp.server_extensions.append('ipyparallel.nbextension')` to the file `~/.jupyter/jupyter_notebook_config.py` (may need to create it)\n",
    "- then enable the IPython Clusters tab in Jupyter by typing `ipcluster nbextension enable --user` in a terminal\n"
   ]
  },
  {
   "cell_type": "markdown",
   "metadata": {},
   "source": [
    "### <font color=\"red\"> *Exercise*: </font>\n",
    "- Install and activate ipyparallel!"
   ]
  },
  {
   "cell_type": "markdown",
   "metadata": {},
   "source": [
    "## How does it work?"
   ]
  },
  {
   "cell_type": "markdown",
   "metadata": {},
   "source": [
    "- Launch IPython **engines** (Independent Python processes. Typically one per core)\n",
    "- Create a `Client` that acts as a proxy to the engines\n",
    "- Use client to launch tasks on the engines"
   ]
  },
  {
   "cell_type": "markdown",
   "metadata": {},
   "source": [
    "### There are several ways to run parallel code\n",
    "\n",
    "- **Direct interface** - access engines directly, explicitly through their identifiers\n",
    "- **load-balanced interface** - submit job to scheduler which distributes to engines depending on load"
   ]
  },
  {
   "cell_type": "markdown",
   "metadata": {},
   "source": [
    "### <font color=\"blue\"> Demo, direct interface </blue>"
   ]
  },
  {
   "cell_type": "markdown",
   "metadata": {},
   "source": [
    "### <font color=\"red\"> *Exercise*: </font>\n",
    "- what other attributes does rc have?\n"
   ]
  },
  {
   "cell_type": "markdown",
   "metadata": {},
   "source": [
    "### <font color=\"blue\"> Demo, %px magic </blue>"
   ]
  },
  {
   "cell_type": "markdown",
   "metadata": {},
   "source": [
    "Use the %px (or %%px) magic to execute given python code in parallel"
   ]
  },
  {
   "cell_type": "markdown",
   "metadata": {},
   "source": [
    "Specify list of engines to run code on using `--targets`. Supports Python slicing"
   ]
  },
  {
   "cell_type": "markdown",
   "metadata": {},
   "source": [
    "### <font color=\"red\"> *Exercise: Estimating $\\pi$ with parallel Monte Carlo* </font>"
   ]
  },
  {
   "cell_type": "markdown",
   "metadata": {},
   "source": [
    "Let us first make a plot to illustrate what we want to do"
   ]
  },
  {
   "cell_type": "code",
   "execution_count": null,
   "metadata": {
    "collapsed": true
   },
   "outputs": [],
   "source": [
    "%matplotlib inline"
   ]
  },
  {
   "cell_type": "code",
   "execution_count": null,
   "metadata": {
    "collapsed": false
   },
   "outputs": [],
   "source": [
    "import matplotlib.pylab as plt\n",
    "import numpy as np\n",
    "\n",
    "n = 5000\n",
    "p = np.random.rand(n,2)\n",
    "idx = np.sqrt(p[:,0]**2+p[:,1]**2) < 1\n",
    "plt.plot(p[idx,0],p[idx,1],'b.') # point inside\n",
    "plt.plot(p[idx==False,0],p[idx==False,1],'r.') # point outside\n",
    "plt.axis([-0.1,1.1,-0.1,1.1]) \n",
    "plt.show()"
   ]
  },
  {
   "cell_type": "markdown",
   "metadata": {},
   "source": [
    "### Task 1\n",
    " - import ipyparallel\n",
    " - create a Client object\n",
    " - list the identifiers of the engines\n",
    " - create a direct interface to the engines"
   ]
  },
  {
   "cell_type": "markdown",
   "metadata": {},
   "source": [
    "### Task 2\n",
    " - take the following function mc_pi\n",
    " - run it in serial using 10$^6$ random points, and time it\n",
    " - run it in parallel using the map_sync method of clients\n",
    " - time it, and compare with serial execution"
   ]
  },
  {
   "cell_type": "code",
   "execution_count": null,
   "metadata": {
    "collapsed": false
   },
   "outputs": [],
   "source": [
    "import numpy as np\n",
    "def mc_pi(n):\n",
    "    count = 0\n",
    "    p = np.random.rand(n,2)\n",
    "    for i in range(n):\n",
    "        x = p[i,0]\n",
    "        y = p[i,1]\n",
    "        if (x**2 + y**2) <= 1.0:\n",
    "            count += 1\n",
    "    return float(count)/float(n)"
   ]
  }
 ],
 "metadata": {
  "anaconda-cloud": {},
  "kernelspec": {
   "display_name": "Python [conda root]",
   "language": "python",
   "name": "conda-root-py"
  },
  "language_info": {
   "codemirror_mode": {
    "name": "ipython",
    "version": 2
   },
   "file_extension": ".py",
   "mimetype": "text/x-python",
   "name": "python",
   "nbconvert_exporter": "python",
   "pygments_lexer": "ipython2",
   "version": "2.7.12"
  }
 },
 "nbformat": 4,
 "nbformat_minor": 0
}
