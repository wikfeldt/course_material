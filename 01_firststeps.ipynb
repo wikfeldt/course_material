{
 "cells": [
  {
   "cell_type": "markdown",
   "metadata": {},
   "source": [
    "# First steps"
   ]
  },
  {
   "cell_type": "markdown",
   "metadata": {},
   "source": [
    "## Navigating Jupyter notebooks\n",
    " - Notebook Dashboard\n",
    "   * *Files* tab shows files and notebooks in currenct directory\n",
    "   * *Running* tab shows all kernels currently running on your computer\n",
    "   * *Clusters* tab lets you launch kernels for parallel computing\n",
    " - Fully-fledged terminal (you can run emacs and vi)\n",
    " - Text editor, convenient for source code in many different languages  \n",
    " - Notebook user interface\n",
    " \n",
    "  ![A new notebook](img/nbui-2.png)\n",
    "\n",
    "\n",
    " - Jupyter has two keyboard input modes, **Edit mode** is for typing code/text (green cell border), and **Command mode** for notebook-level options (blue left margin and grey cell border)\n",
    "  - use `Enter` and `Escape` keys to toggle between them"
   ]
  },
  {
   "cell_type": "markdown",
   "metadata": {},
   "source": [
    " ### Cells\n",
    "  - There are two main types of cells: **Markdown cells** and **code cells**\n",
    "  - **Markdown cells** contain rich text. Apart from classic formatting options (bold, italics, headings), one can add links, images, HTML elements, LaTeX, *etc*.\n",
    "  - **Code cells** contain code to be executed by the kernel. The programming language corresponds to the kernel's language. \n"
   ]
  },
  {
   "cell_type": "markdown",
   "metadata": {},
   "source": [
    "### Useful keyboard shortcuts in **Command mode**\n",
    " - `Tab` key for code completion or indentation\n",
    " - `m` and `y` to toggle between Markdown and Code cells\n",
    " - `d-d` to delete a cell\n",
    " - `z` to undo deleting\n",
    " - `a/b` to insert cells above/below current cell\n",
    " - `x/c/v` to cut/copy/paste cells\n",
    " - `Up/Down` or `k/j` to select previous/next cells"
   ]
  },
  {
   "cell_type": "markdown",
   "metadata": {},
   "source": [
    "### Keyboard shortcuts available in both Edit and Command modes\n",
    "\n",
    "* `Ctrl`-`Enter`: run the cell\n",
    "* `Shift`-`Enter`: run the cell and select the cell below\n",
    "* `Alt`-`Enter`: run the cell and insert a new cell below\n",
    "* `Ctrl`-`s`: save the notebook"
   ]
  },
  {
   "cell_type": "markdown",
   "metadata": {},
   "source": [
    "### Other useful features\n",
    " - Multicursor support: click and drag mouse while holding down `Alt` key\n"
   ]
  },
  {
   "cell_type": "markdown",
   "metadata": {},
   "source": [
    "## Markdown cells\n",
    " - \"*Markdown is a lightweight markup language with plain text formatting syntax designed so that it can be converted to HTML and many other formats using a tool by the same name*\" [wikipedia]\n",
    "![A Markdown cell](img/markdown-both.png)"
   ]
  },
  {
   "cell_type": "markdown",
   "metadata": {},
   "source": [
    "## Code cells\n",
    "\n",
    "This is how a code cell can look\n",
    "![Structure of a code cell](img/nbui-3.png)\n"
   ]
  },
  {
   "cell_type": "markdown",
   "metadata": {},
   "source": [
    "* The **prompt number** shows the cell's number, which increases everytime the cell is run. Cells can be run in any order, so the numbers do not necessarily increase linearly.\n",
    "* The **input area** contains a multiline text editor that lets you write one or several lines of code with syntax highlighting.\n",
    "* The **widget area** may contain graphical controls; here, it displays a slider.\n",
    "* The **output area** can contain multiple outputs, here:\n",
    "    * Standard output (text in black)\n",
    "    * Error output (text with a red background)\n",
    "    * Rich output (an HTML table and an image here)"
   ]
  },
  {
   "cell_type": "markdown",
   "metadata": {},
   "source": [
    "### More on history\n",
    "- The notebook keeps track of the sequence it which cells are run"
   ]
  },
  {
   "cell_type": "code",
   "execution_count": 1,
   "metadata": {
    "collapsed": true
   },
   "outputs": [],
   "source": [
    "x = 1"
   ]
  },
  {
   "cell_type": "code",
   "execution_count": 4,
   "metadata": {
    "collapsed": false
   },
   "outputs": [
    {
     "data": {
      "text/plain": [
       "2"
      ]
     },
     "execution_count": 4,
     "metadata": {},
     "output_type": "execute_result"
    }
   ],
   "source": [
    "y=x\n",
    "y"
   ]
  },
  {
   "cell_type": "code",
   "execution_count": 3,
   "metadata": {
    "collapsed": true
   },
   "outputs": [],
   "source": [
    "x=2"
   ]
  },
  {
   "cell_type": "code",
   "execution_count": 4,
   "metadata": {
    "collapsed": false
   },
   "outputs": [
    {
     "data": {
      "text/plain": [
       "15"
      ]
     },
     "execution_count": 4,
     "metadata": {},
     "output_type": "execute_result"
    }
   ],
   "source": [
    "5*3"
   ]
  },
  {
   "cell_type": "code",
   "execution_count": 6,
   "metadata": {
    "collapsed": false
   },
   "outputs": [
    {
     "data": {
      "text/plain": [
       "300"
      ]
     },
     "execution_count": 6,
     "metadata": {},
     "output_type": "execute_result"
    }
   ],
   "source": [
    "_ * 4"
   ]
  },
  {
   "cell_type": "markdown",
   "metadata": {},
   "source": [
    "### Converting a notebook .ipynb file to other formats"
   ]
  },
  {
   "cell_type": "markdown",
   "metadata": {},
   "source": [
    "In a terminal window, type\n",
    "- `jupyter nbconvert mynotebook.ipynb` - converts to default format (probably html)\n",
    "- `jupyter nbconvert --to html --template [basic/full] mynotebook.ipynb` - convert to html in either basic or full format\n",
    "- `jupyter nbconvert --to latex --template [base/report/article] mynotebook.ipynb` - convert to latex\n",
    "- `jupyter nbconvert mynotebook.ipynb --to pdf` - convert to pdf\n",
    "- `jupyter nbconvert myslides.ipynb --to slides --post serve` - convert (and display) a Reveal.js-powered slideshow"
   ]
  },
  {
   "cell_type": "markdown",
   "metadata": {},
   "source": [
    "### Creating presentations with Reveal.js\n",
    "http://bollwyvl.github.io/live_reveal/#/\n",
    "\n",
    "http://lab.hakim.se/reveal-js/#/"
   ]
  },
  {
   "cell_type": "markdown",
   "metadata": {},
   "source": [
    "### Getting help"
   ]
  },
  {
   "cell_type": "markdown",
   "metadata": {},
   "source": [
    " - press `h` for keyboard shortcuts\n",
    " - use question marks:"
   ]
  },
  {
   "cell_type": "code",
   "execution_count": 1,
   "metadata": {
    "collapsed": true
   },
   "outputs": [],
   "source": [
    "import numpy as np\n",
    "np.sqrt?"
   ]
  },
  {
   "cell_type": "code",
   "execution_count": 2,
   "metadata": {
    "collapsed": true
   },
   "outputs": [],
   "source": [
    "%prun?"
   ]
  },
  {
   "cell_type": "code",
   "execution_count": null,
   "metadata": {
    "collapsed": true
   },
   "outputs": [],
   "source": []
  }
 ],
 "metadata": {
  "anaconda-cloud": {},
  "kernelspec": {
   "display_name": "Python [conda root]",
   "language": "python",
   "name": "conda-root-py"
  },
  "language_info": {
   "codemirror_mode": {
    "name": "ipython",
    "version": 2
   },
   "file_extension": ".py",
   "mimetype": "text/x-python",
   "name": "python",
   "nbconvert_exporter": "python",
   "pygments_lexer": "ipython2",
   "version": "2.7.12"
  }
 },
 "nbformat": 4,
 "nbformat_minor": 0
}
