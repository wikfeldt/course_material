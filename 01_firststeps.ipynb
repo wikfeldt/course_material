{
 "cells": [
  {
   "cell_type": "markdown",
   "metadata": {},
   "source": [
    "## Getting started\n",
    " - Notebook Dashboard\n",
    "   * *Files* tab shows files and notebooks in currenct directory\n",
    "   * *Running* tab shows all kernels currently running on your computer\n",
    "   * *Clusters* tab lets you launch kernels for parallel computing\n",
    "   \n",
    "   \n",
    " - Notebook user interface\n",
    " \n",
    "  ![A new notebook](img/nbui-2.png)\n",
    "\n",
    "\n",
    " - Jupyter has two keyboard input modes, **Edit mode** is for typing code/text (green cell border), and **Command mode** for notebook-level options (blue left margin and grey cell border)\n",
    "  - use *Enter* and *Escape* keys to toggle between them\n"
   ]
  },
  {
   "cell_type": "markdown",
   "metadata": {},
   "source": [
    " - There are two main types of cells: **Markdown cells** and **code cells**\n",
    "  - **Markdown cells** contain rich text. Apart from classic formatting options (bold, italics, headings), one can add links, images, HTML elements, LaTeX, *etc*.\n",
    "  - **Code cells** contain code to be executed by the kernel. The programming language corresponds to the kernel's language. We will only use Python in this book, but you can use many other languages.\n",
    "You can change the type of a cell by first clicking on a cell to select it, and then choosing the cell's type in the toolbar's dropdown menu showing Markdown or Code."
   ]
  },
  {
   "cell_type": "markdown",
   "metadata": {},
   "source": [
    "## Useful keyboard shortcuts in *Command mode*\n",
    " - all shortcuts are *case insensitive*\n",
    " - *Tab key* for code completion or indentation\n",
    " - *M* and *Y* to toggle between Markdown and Code cells\n",
    " - *D-D* to delete a cell\n",
    " - *Z* to undo deleting\n",
    " - *A/B* to insert cells above/below current cell\n",
    " - *X/C/V* to cut/copy/paste cells\n",
    " - *Up/Down* or *k/j* to select previous/next cells "
   ]
  },
  {
   "cell_type": "markdown",
   "metadata": {},
   "source": [
    "## Markdown cells\n",
    " - \"*Markdown is a lightweight markup language with plain text formatting syntax designed so that it can be converted to HTML and many other formats using a tool by the same name*\" [wikipedia]\n",
    "![A Markdown cell](img/markdown-both.png)"
   ]
  },
  {
   "cell_type": "markdown",
   "metadata": {},
   "source": [
    "## Code cells\n",
    "### History\n",
    "- The notebook keeps track of the sequence it which cells are run"
   ]
  },
  {
   "cell_type": "code",
   "execution_count": 21,
   "metadata": {
    "collapsed": true
   },
   "outputs": [],
   "source": [
    "x = 1"
   ]
  },
  {
   "cell_type": "code",
   "execution_count": 24,
   "metadata": {
    "collapsed": false
   },
   "outputs": [
    {
     "data": {
      "text/plain": [
       "2"
      ]
     },
     "execution_count": 24,
     "metadata": {},
     "output_type": "execute_result"
    }
   ],
   "source": [
    "y=x\n",
    "y"
   ]
  },
  {
   "cell_type": "code",
   "execution_count": 3,
   "metadata": {
    "collapsed": true
   },
   "outputs": [],
   "source": [
    "x=2"
   ]
  },
  {
   "cell_type": "code",
   "execution_count": 4,
   "metadata": {
    "collapsed": false
   },
   "outputs": [
    {
     "data": {
      "text/plain": [
       "15"
      ]
     },
     "execution_count": 4,
     "metadata": {},
     "output_type": "execute_result"
    }
   ],
   "source": [
    "5*3"
   ]
  },
  {
   "cell_type": "code",
   "execution_count": 6,
   "metadata": {
    "collapsed": false
   },
   "outputs": [
    {
     "data": {
      "text/plain": [
       "300"
      ]
     },
     "execution_count": 6,
     "metadata": {},
     "output_type": "execute_result"
    }
   ],
   "source": [
    "_ * 4"
   ]
  },
  {
   "cell_type": "code",
   "execution_count": null,
   "metadata": {
    "collapsed": true
   },
   "outputs": [],
   "source": []
  }
 ],
 "metadata": {
  "anaconda-cloud": {},
  "kernelspec": {
   "display_name": "Python [conda root]",
   "language": "python",
   "name": "conda-root-py"
  },
  "language_info": {
   "codemirror_mode": {
    "name": "ipython",
    "version": 2
   },
   "file_extension": ".py",
   "mimetype": "text/x-python",
   "name": "python",
   "nbconvert_exporter": "python",
   "pygments_lexer": "ipython2",
   "version": "2.7.12"
  }
 },
 "nbformat": 4,
 "nbformat_minor": 0
}
