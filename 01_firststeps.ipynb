{
 "cells": [
  {
   "cell_type": "markdown",
   "metadata": {},
   "source": [
    "# First steps"
   ]
  },
  {
   "cell_type": "markdown",
   "metadata": {},
   "source": [
    "## History\n",
    " - In 2014, Fernando Pérez announced a spin-off project from IPython called Project Jupyter. IPython will continue to exist as a Python shell and a kernel for Jupyter, while the notebook and other language-agnostic parts of IPython will move under the Jupyter name. Jupyter added support for Julia, R, Haskell and Ruby. [from wikipedia]\n",
    " - IPython is a command shell for interactive computing\n",
    "  - Terminal IPython as the familiar REPL (read-eval-print loop, i.e. and interactive toplevel language shell)\n",
    "  - The IPython kernel that provides computation and communication with the frontend interfaces, like the notebook\n",
    " - why \"Jupyter\"?\n",
    "  - Julia + Python + R\t\n",
    "  - also, Galileo's publication in a pamphlet in 1610 in Sidereus Nuncius (Starry Messanger) about observations of Jupiter's moons (Io, Europa, Ganymede and Callisto) is formulated as a notebook, with illustrations, text, calculations, titles, datapoints, images, reasoning... One of the first notebooks!\n",
    "\n",
    "  "
   ]
  },
  {
   "cell_type": "markdown",
   "metadata": {},
   "source": [
    "## Why use Jupyter?\n",
    " - use the Notebook for:\n",
    "  - complex analysis involving interactive experimentation\n",
    "  - keeping track of interactive sessions, like a lab notebook\n",
    "  - writing technical documentation involving code, equations, figures...\t\n",
    "  - sharing with colleagues\n",
    " - Example applications:\n",
    "  - Using the Notebook for data exploration\n",
    "  - Using extensions and widgets\n",
    "  - Using nbconvert for code execution and workflow simplification\n",
    "  - Using nbconvert for publishing\n",
    "  - Using multiple language kernels"
   ]
  },
  {
   "cell_type": "markdown",
   "metadata": {},
   "source": [
    "## Resources\n",
    " - https://github.com/ipython/ipython/wiki/A-gallery-of-interesting-IPython-Notebooks\n",
    " - http://ipython-books.github.io/minibook/\n",
    " - http://ipython-books.github.io/cookbook/\n",
    " - https://www.dataquest.io/blog/jupyter-notebook-tips-tricks-shortcuts/\n",
    " "
   ]
  },
  {
   "cell_type": "markdown",
   "metadata": {},
   "source": [
    "## Navigating Jupyter notebooks\n",
    " - Notebook Dashboard\n",
    "   * *Files* tab shows files and notebooks in currenct directory\n",
    "   * *Running* tab shows all kernels currently running on your computer\n",
    "   * *Clusters* tab lets you launch kernels for parallel computing\n",
    "   \n",
    "   \n",
    " - Notebook user interface\n",
    " \n",
    "  ![A new notebook](img/nbui-2.png)\n",
    "\n",
    "\n",
    " - Jupyter has two keyboard input modes, **Edit mode** is for typing code/text (green cell border), and **Command mode** for notebook-level options (blue left margin and grey cell border)\n",
    "  - use *Enter* and *Escape* keys to toggle between them"
   ]
  },
  {
   "cell_type": "markdown",
   "metadata": {},
   "source": [
    " ### Cells\n",
    "  - There are two main types of cells: **Markdown cells** and **code cells**\n",
    "  - **Markdown cells** contain rich text. Apart from classic formatting options (bold, italics, headings), one can add links, images, HTML elements, LaTeX, *etc*.\n",
    "  - **Code cells** contain code to be executed by the kernel. The programming language corresponds to the kernel's language. We will only use Python in this book, but you can use many other languages.\n",
    "You can change the type of a cell by first clicking on a cell to select it, and then choosing the cell's type in the toolbar's dropdown menu showing Markdown or Code."
   ]
  },
  {
   "cell_type": "markdown",
   "metadata": {},
   "source": [
    "### Keyboard shortcuts available in both Edit and Command modes\n",
    "\n",
    "* `Ctrl`-`Enter`: run the cell\n",
    "* `Shift`-`Enter`: run the cell and select the cell below\n",
    "* `Alt`-`Enter`: run the cell and insert a new cell below\n",
    "* `Ctrl`-`s`: save the notebook"
   ]
  },
  {
   "cell_type": "markdown",
   "metadata": {},
   "source": [
    "### Useful keyboard shortcuts in *Command mode*\n",
    " - `Tab` key for code completion or indentation\n",
    " - `m` and `y` to toggle between Markdown and Code cells\n",
    " - `d-d` to delete a cell\n",
    " - `z` to undo deleting\n",
    " - `a/b` to insert cells above/below current cell\n",
    " - `x/c/v` to cut/copy/paste cells\n",
    " - `Up/Down` or `k/j` to select previous/next cells \n",
    " - `o` toggle output of selected cell"
   ]
  },
  {
   "cell_type": "markdown",
   "metadata": {},
   "source": [
    "## Markdown cells\n",
    " - \"*Markdown is a lightweight markup language with plain text formatting syntax designed so that it can be converted to HTML and many other formats using a tool by the same name*\" [wikipedia]\n",
    "![A Markdown cell](img/markdown-both.png)"
   ]
  },
  {
   "cell_type": "markdown",
   "metadata": {},
   "source": [
    "## Code cells\n",
    "\n",
    "This is how a code cell can look\n",
    "![Structure of a code cell](img/nbui-3.png)\n"
   ]
  },
  {
   "cell_type": "markdown",
   "metadata": {},
   "source": [
    "* The **prompt number** shows the cell's number, which increases everytime the cell is run. Cells can be run in any order, so the numbers do not necessarily increase linearly.\n",
    "* The **input area** contains a multiline text editor that lets you write one or several lines of code with syntax highlighting.\n",
    "* The **widget area** may contain graphical controls; here, it displays a slider.\n",
    "* The **output area** can contain multiple outputs, here:\n",
    "    * Standard output (text in black)\n",
    "    * Error output (text with a red background)\n",
    "    * Rich output (an HTML table and an image here)"
   ]
  },
  {
   "cell_type": "markdown",
   "metadata": {},
   "source": [
    "### More on history\n",
    "- The notebook keeps track of the sequence it which cells are run"
   ]
  },
  {
   "cell_type": "code",
   "execution_count": 21,
   "metadata": {
    "collapsed": true
   },
   "outputs": [],
   "source": [
    "x = 1"
   ]
  },
  {
   "cell_type": "code",
   "execution_count": 24,
   "metadata": {
    "collapsed": false
   },
   "outputs": [
    {
     "data": {
      "text/plain": [
       "2"
      ]
     },
     "execution_count": 24,
     "metadata": {},
     "output_type": "execute_result"
    }
   ],
   "source": [
    "y=x\n",
    "y"
   ]
  },
  {
   "cell_type": "code",
   "execution_count": 3,
   "metadata": {
    "collapsed": true
   },
   "outputs": [],
   "source": [
    "x=2"
   ]
  },
  {
   "cell_type": "code",
   "execution_count": 4,
   "metadata": {
    "collapsed": false
   },
   "outputs": [
    {
     "data": {
      "text/plain": [
       "15"
      ]
     },
     "execution_count": 4,
     "metadata": {},
     "output_type": "execute_result"
    }
   ],
   "source": [
    "5*3"
   ]
  },
  {
   "cell_type": "code",
   "execution_count": 6,
   "metadata": {
    "collapsed": false
   },
   "outputs": [
    {
     "data": {
      "text/plain": [
       "300"
      ]
     },
     "execution_count": 6,
     "metadata": {},
     "output_type": "execute_result"
    }
   ],
   "source": [
    "_ * 4"
   ]
  },
  {
   "cell_type": "markdown",
   "metadata": {},
   "source": [
    "### Inspecting Python objects"
   ]
  },
  {
   "cell_type": "code",
   "execution_count": 8,
   "metadata": {
    "collapsed": true
   },
   "outputs": [],
   "source": [
    "import numpy as np"
   ]
  },
  {
   "cell_type": "code",
   "execution_count": 9,
   "metadata": {
    "collapsed": true
   },
   "outputs": [],
   "source": [
    "np.sqrt?"
   ]
  },
  {
   "cell_type": "code",
   "execution_count": 10,
   "metadata": {
    "collapsed": true
   },
   "outputs": [],
   "source": [
    "%prun?"
   ]
  },
  {
   "cell_type": "code",
   "execution_count": null,
   "metadata": {
    "collapsed": true
   },
   "outputs": [],
   "source": []
  }
 ],
 "metadata": {
  "anaconda-cloud": {},
  "kernelspec": {
   "display_name": "Python [conda root]",
   "language": "python",
   "name": "conda-root-py"
  },
  "language_info": {
   "codemirror_mode": {
    "name": "ipython",
    "version": 2
   },
   "file_extension": ".py",
   "mimetype": "text/x-python",
   "name": "python",
   "nbconvert_exporter": "python",
   "pygments_lexer": "ipython2",
   "version": "2.7.12"
  }
 },
 "nbformat": 4,
 "nbformat_minor": 0
}
