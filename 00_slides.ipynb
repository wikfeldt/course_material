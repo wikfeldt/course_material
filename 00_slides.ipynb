{
 "cells": [
  {
   "cell_type": "markdown",
   "metadata": {
    "slideshow": {
     "slide_type": "slide"
    }
   },
   "source": [
    "# Introduction to Jupyter Notebooks"
   ]
  },
  {
   "cell_type": "markdown",
   "metadata": {
    "slideshow": {
     "slide_type": "subslide"
    }
   },
   "source": [
    "```bash\n",
    "$ git clone https://github.com/coderefinery/example-lesson.git\n",
    "$ ls \n",
    "jupyter-lesson\n",
    "$ cd jupyter-lesson\n",
    "$ ls\n",
    "00_slides.ipynb     01_firststeps.ipynb NN_magics.ipynb ...\n",
    "```"
   ]
  },
  {
   "cell_type": "markdown",
   "metadata": {
    "nbpresent": {
     "id": "b7064c7d-a630-4c29-995a-b220968cd23b"
    },
    "slideshow": {
     "slide_type": "subslide"
    }
   },
   "source": [
    "Thor Wikfeldt  \n",
    "kthw@kth.se  \n",
    "PDC Center for HPC, Stockholm"
   ]
  },
  {
   "cell_type": "markdown",
   "metadata": {
    "slideshow": {
     "slide_type": "slide"
    }
   },
   "source": [
    "## History\n",
    "  - In 2014, Fernando Pérez announced a spin-off project from IPython called Project Jupyter. IPython will continue to exist as a Python shell and a kernel for Jupyter, while the notebook and other language-agnostic parts of IPython will move under the Jupyter name. Jupyter added support for Julia, R, Haskell and Ruby [`https://en.wikipedia.org/wiki/IPython`].\n",
    " "
   ]
  },
  {
   "cell_type": "markdown",
   "metadata": {
    "slideshow": {
     "slide_type": "subslide"
    }
   },
   "source": [
    "Why \"Jupyter\"?\n",
    "  - Julia + Python + R\t      "
   ]
  },
  {
   "cell_type": "markdown",
   "metadata": {
    "slideshow": {
     "slide_type": "subslide"
    }
   },
   "source": [
    " - Also, Galileo's publication in a pamphlet in 1610 in Sidereus Nuncius (Starry Messanger) about observations of Jupiter's moons (Io, Europa, Ganymede and Callisto) is formulated as a notebook, with illustrations, text, calculations, titles, datapoints, images, reasoning... One of the first notebooks!\n",
    "<p align=\"center\">\n",
    "<img src=\"img/galileo1610_1.jpg\" alt=\"Drawing\" style=\"float: center; width: 300px;\"/> \n",
    "</p>\n",
    "\n",
    "  "
   ]
  },
  {
   "cell_type": "markdown",
   "metadata": {
    "slideshow": {
     "slide_type": "slide"
    }
   },
   "source": [
    "## Today\n",
    "- Around 3M Jupyter users\n",
    "- Over 500k Jupyter Notebooks on GitHub"
   ]
  },
  {
   "cell_type": "markdown",
   "metadata": {
    "slideshow": {
     "slide_type": "subslide"
    }
   },
   "source": [
    "![jupusage backgrounds](img/jupyter_survey_2016_backgrounds.png)\n",
    "\n",
    "<small> https://github.com/jupyter/design/blob/master/surveys/2015-notebook-ux/analysis/report_dashboard.ipynb </small>"
   ]
  },
  {
   "cell_type": "markdown",
   "metadata": {
    "slideshow": {
     "slide_type": "subslide"
    }
   },
   "source": [
    "![jupusage backgrounds](img/jupyter_survey_2016_words.png)\n",
    "\n",
    "<small> https://github.com/jupyter/design/blob/master/surveys/2015-notebook-ux/analysis/report_dashboard.ipynb </small>"
   ]
  },
  {
   "cell_type": "markdown",
   "metadata": {
    "slideshow": {
     "slide_type": "slide"
    }
   },
   "source": [
    "## Why use Jupyter?\n",
    "- complex analysis involving interactive experimentation\n",
    "- quickly testing out ideas\n",
    "- keeping track of interactive sessions, like a lab notebook\n",
    "- writing technical documentation involving formated text, code, equations, figures, widgets...\t\n",
    "- sharing and collaborating with colleagues\n",
    "- supplementary information with published articles\n",
    "- presentations"
   ]
  },
  {
   "cell_type": "markdown",
   "metadata": {
    "nbpresent": {
     "id": "c554a788-1bbe-4615-8cb2-04a26dbb2986"
    },
    "slideshow": {
     "slide_type": "slide"
    }
   },
   "source": [
    "## Resources\n",
    " - https://github.com/ipython/ipython/wiki/A-gallery-of-interesting-IPython-Notebooks\n",
    " - http://nbviewer.jupyter.org/\n",
    " - http://ipython-books.github.io/minibook/\n",
    " - http://ipython-books.github.io/cookbook/\n",
    " - https://www.dataquest.io/blog/jupyter-notebook-tips-tricks-shortcuts/\n",
    " "
   ]
  },
  {
   "cell_type": "markdown",
   "metadata": {
    "slideshow": {
     "slide_type": "slide"
    }
   },
   "source": [
    "## Future directions: JupyterLab\n",
    "\n",
    "![jupyterlab](img/jlab-screenshot-nb-con-term-2_40.png)"
   ]
  },
  {
   "cell_type": "markdown",
   "metadata": {
    "slideshow": {
     "slide_type": "slide"
    }
   },
   "source": [
    "## Overview\n",
    "\n",
    " - Getting familiar with notebooks\n",
    " - The power of Jupyter notebooks: *magics*\n",
    " - Data exploration with `pandas`, `matplotlib` and `seaborn`\n",
    " - Need for speed: mixing in Fortran and C\n",
    " - Running in parallel with `ipyparallel`"
   ]
  }
 ],
 "metadata": {
  "anaconda-cloud": {},
  "celltoolbar": "Slideshow",
  "kernelspec": {
   "display_name": "Python [conda root]",
   "language": "python",
   "name": "conda-root-py"
  },
  "language_info": {
   "codemirror_mode": {
    "name": "ipython",
    "version": 2
   },
   "file_extension": ".py",
   "mimetype": "text/x-python",
   "name": "python",
   "nbconvert_exporter": "python",
   "pygments_lexer": "ipython2",
   "version": "2.7.12"
  },
  "nbpresent": {
   "slides": {
    "30a07164-6051-402a-a8c7-c30e11a6e399": {
     "id": "30a07164-6051-402a-a8c7-c30e11a6e399",
     "prev": "6af13e71-17ba-4c3c-960a-01ed28e8a43f",
     "regions": {
      "5e65fea5-b0d9-4e44-8b5d-d9285a2fe80e": {
       "attrs": {
        "height": 1,
        "width": 1,
        "x": 0,
        "y": 0
       },
       "id": "5e65fea5-b0d9-4e44-8b5d-d9285a2fe80e"
      }
     }
    },
    "6af13e71-17ba-4c3c-960a-01ed28e8a43f": {
     "id": "6af13e71-17ba-4c3c-960a-01ed28e8a43f",
     "prev": null,
     "regions": {
      "ea5d03ee-4c96-4b6f-998c-ca04df408a19": {
       "attrs": {
        "height": 1,
        "width": 1,
        "x": 0,
        "y": 0
       },
       "content": {
        "cell": "b7064c7d-a630-4c29-995a-b220968cd23b",
        "part": "source"
       },
       "id": "ea5d03ee-4c96-4b6f-998c-ca04df408a19"
      }
     }
    }
   },
   "themes": {}
  }
 },
 "nbformat": 4,
 "nbformat_minor": 0
}
