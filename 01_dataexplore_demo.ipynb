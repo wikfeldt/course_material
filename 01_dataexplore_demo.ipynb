{
 "cells": [
  {
   "cell_type": "code",
   "execution_count": 5,
   "metadata": {
    "collapsed": true
   },
   "outputs": [],
   "source": [
    "import numpy as np\n",
    "import pandas as pd\n",
    "import matplotlib.pyplot as plt\n",
    "import seaborn as sns\n",
    "%matplotlib inline"
   ]
  },
  {
   "cell_type": "markdown",
   "metadata": {},
   "source": [
    "### <font color=\"red\"> *Exercise* </font>"
   ]
  },
  {
   "cell_type": "markdown",
   "metadata": {},
   "source": [
    "Create a widget that computes the square of integers between 0 and 10!"
   ]
  },
  {
   "cell_type": "code",
   "execution_count": 6,
   "metadata": {
    "collapsed": false
   },
   "outputs": [
    {
     "data": {
      "text/plain": [
       "'The square of 5 is 25.'"
      ]
     },
     "metadata": {},
     "output_type": "display_data"
    }
   ],
   "source": [
    "from ipywidgets import interact  # IPython.html.widgets before IPython 4.0\n",
    "@interact(x=(0, 10))\n",
    "def square(x):\n",
    "    return(\"The square of %d is %d.\" % (x, x**2))"
   ]
  },
  {
   "cell_type": "markdown",
   "metadata": {},
   "source": [
    "### <font color=\"red\"> *Exercise*"
   ]
  },
  {
   "cell_type": "markdown",
   "metadata": {},
   "source": [
    "- Annotate each cell with the numeric value using integer formatting!"
   ]
  },
  {
   "cell_type": "code",
   "execution_count": 7,
   "metadata": {
    "collapsed": false
   },
   "outputs": [
    {
     "ename": "NameError",
     "evalue": "name 'df_week' is not defined",
     "output_type": "error",
     "traceback": [
      "\u001b[0;31m---------------------------------------------------------------------------\u001b[0m",
      "\u001b[0;31mNameError\u001b[0m                                 Traceback (most recent call last)",
      "\u001b[0;32m<ipython-input-7-57fdeca3a7fb>\u001b[0m in \u001b[0;36m<module>\u001b[0;34m()\u001b[0m\n\u001b[0;32m----> 1\u001b[0;31m \u001b[0max\u001b[0m \u001b[0;34m=\u001b[0m \u001b[0msns\u001b[0m\u001b[0;34m.\u001b[0m\u001b[0mheatmap\u001b[0m\u001b[0;34m(\u001b[0m\u001b[0mdf_week\u001b[0m\u001b[0;34m.\u001b[0m\u001b[0mix\u001b[0m\u001b[0;34m[\u001b[0m\u001b[0mdays\u001b[0m\u001b[0;34m]\u001b[0m\u001b[0;34m,\u001b[0m\u001b[0mlinewidths\u001b[0m\u001b[0;34m=\u001b[0m\u001b[0;36m.5\u001b[0m\u001b[0;34m,\u001b[0m \u001b[0mannot\u001b[0m\u001b[0;34m=\u001b[0m\u001b[0mTrue\u001b[0m\u001b[0;34m,\u001b[0m \u001b[0mfmt\u001b[0m\u001b[0;34m=\u001b[0m\u001b[0;34m\"d\"\u001b[0m\u001b[0;34m)\u001b[0m\u001b[0;34m\u001b[0m\u001b[0m\n\u001b[0m",
      "\u001b[0;31mNameError\u001b[0m: name 'df_week' is not defined"
     ]
    }
   ],
   "source": [
    "ax = sns.heatmap(df_week.ix[days],linewidths=.5, annot=True, fmt=\"d\")"
   ]
  },
  {
   "cell_type": "markdown",
   "metadata": {},
   "source": [
    "### Nobel prizes "
   ]
  },
  {
   "cell_type": "code",
   "execution_count": 8,
   "metadata": {
    "collapsed": true
   },
   "outputs": [],
   "source": [
    "import numpy as np\n",
    "import pandas as pd\n",
    "import matplotlib.pyplot as plt\n",
    "%matplotlib inline\n",
    "import seaborn as sns\n",
    "# dataset from http://oppnadata.se/en/dataset/nobel-prizes/resource/f3da8ba9-a17f-4911-9003-4bcef93619cc\n",
    "nobel = pd.read_csv(\"data/nobels.csv\")"
   ]
  },
  {
   "cell_type": "code",
   "execution_count": 9,
   "metadata": {
    "collapsed": true
   },
   "outputs": [],
   "source": [
    "nobel[\"number\"]=1"
   ]
  },
  {
   "cell_type": "markdown",
   "metadata": {},
   "source": [
    "### <font color=\"red\"> *Exercise* </font>"
   ]
  },
  {
   "cell_type": "markdown",
   "metadata": {},
   "source": [
    "- Use the groupby method and `sum()` to extract total numbers of Nobel prizes by country"
   ]
  },
  {
   "cell_type": "code",
   "execution_count": 10,
   "metadata": {
    "collapsed": false
   },
   "outputs": [
    {
     "data": {
      "text/html": [
       "<div>\n",
       "<table border=\"1\" class=\"dataframe\">\n",
       "  <thead>\n",
       "    <tr style=\"text-align: right;\">\n",
       "      <th></th>\n",
       "      <th>id</th>\n",
       "      <th>year</th>\n",
       "      <th>share</th>\n",
       "      <th>number</th>\n",
       "    </tr>\n",
       "    <tr>\n",
       "      <th>country</th>\n",
       "      <th></th>\n",
       "      <th></th>\n",
       "      <th></th>\n",
       "      <th></th>\n",
       "    </tr>\n",
       "  </thead>\n",
       "  <tbody>\n",
       "    <tr>\n",
       "      <th>Germany</th>\n",
       "      <td>13313</td>\n",
       "      <td>98614.0</td>\n",
       "      <td>75.0</td>\n",
       "      <td>51</td>\n",
       "    </tr>\n",
       "    <tr>\n",
       "      <th>the Netherlands</th>\n",
       "      <td>2660</td>\n",
       "      <td>21416.0</td>\n",
       "      <td>19.0</td>\n",
       "      <td>11</td>\n",
       "    </tr>\n",
       "    <tr>\n",
       "      <th>France</th>\n",
       "      <td>15386</td>\n",
       "      <td>78498.0</td>\n",
       "      <td>86.0</td>\n",
       "      <td>40</td>\n",
       "    </tr>\n",
       "    <tr>\n",
       "      <th>United Kingdom</th>\n",
       "      <td>32092</td>\n",
       "      <td>178681.0</td>\n",
       "      <td>191.0</td>\n",
       "      <td>91</td>\n",
       "    </tr>\n",
       "    <tr>\n",
       "      <th>USA</th>\n",
       "      <td>174455</td>\n",
       "      <td>720168.0</td>\n",
       "      <td>865.0</td>\n",
       "      <td>363</td>\n",
       "    </tr>\n",
       "    <tr>\n",
       "      <th>Alsace (then Germany, now France)</th>\n",
       "      <td>14</td>\n",
       "      <td>1909.0</td>\n",
       "      <td>2.0</td>\n",
       "      <td>1</td>\n",
       "    </tr>\n",
       "    <tr>\n",
       "      <th>Sweden</th>\n",
       "      <td>4904</td>\n",
       "      <td>33180.0</td>\n",
       "      <td>31.0</td>\n",
       "      <td>17</td>\n",
       "    </tr>\n",
       "    <tr>\n",
       "      <th>Denmark</th>\n",
       "      <td>2634</td>\n",
       "      <td>17571.0</td>\n",
       "      <td>17.0</td>\n",
       "      <td>9</td>\n",
       "    </tr>\n",
       "    <tr>\n",
       "      <th>India</th>\n",
       "      <td>37</td>\n",
       "      <td>1930.0</td>\n",
       "      <td>1.0</td>\n",
       "      <td>1</td>\n",
       "    </tr>\n",
       "    <tr>\n",
       "      <th>Austria</th>\n",
       "      <td>1580</td>\n",
       "      <td>11609.0</td>\n",
       "      <td>10.0</td>\n",
       "      <td>6</td>\n",
       "    </tr>\n",
       "    <tr>\n",
       "      <th>Italy</th>\n",
       "      <td>1485</td>\n",
       "      <td>11729.0</td>\n",
       "      <td>11.0</td>\n",
       "      <td>6</td>\n",
       "    </tr>\n",
       "    <tr>\n",
       "      <th>Japan</th>\n",
       "      <td>13072</td>\n",
       "      <td>36034.0</td>\n",
       "      <td>54.0</td>\n",
       "      <td>18</td>\n",
       "    </tr>\n",
       "    <tr>\n",
       "      <th>Ireland</th>\n",
       "      <td>57</td>\n",
       "      <td>1951.0</td>\n",
       "      <td>2.0</td>\n",
       "      <td>1</td>\n",
       "    </tr>\n",
       "    <tr>\n",
       "      <th>Federal Republic of Germany</th>\n",
       "      <td>6861</td>\n",
       "      <td>51271.0</td>\n",
       "      <td>61.0</td>\n",
       "      <td>26</td>\n",
       "    </tr>\n",
       "    <tr>\n",
       "      <th>USSR</th>\n",
       "      <td>2912</td>\n",
       "      <td>21589.0</td>\n",
       "      <td>30.0</td>\n",
       "      <td>11</td>\n",
       "    </tr>\n",
       "    <tr>\n",
       "      <th>Switzerland</th>\n",
       "      <td>5971</td>\n",
       "      <td>43349.0</td>\n",
       "      <td>48.0</td>\n",
       "      <td>22</td>\n",
       "    </tr>\n",
       "    <tr>\n",
       "      <th>Canada</th>\n",
       "      <td>2477</td>\n",
       "      <td>13805.0</td>\n",
       "      <td>14.0</td>\n",
       "      <td>7</td>\n",
       "    </tr>\n",
       "    <tr>\n",
       "      <th>Finland</th>\n",
       "      <td>203</td>\n",
       "      <td>1945.0</td>\n",
       "      <td>1.0</td>\n",
       "      <td>1</td>\n",
       "    </tr>\n",
       "    <tr>\n",
       "      <th>Czechoslovakia</th>\n",
       "      <td>223</td>\n",
       "      <td>1959.0</td>\n",
       "      <td>1.0</td>\n",
       "      <td>1</td>\n",
       "    </tr>\n",
       "    <tr>\n",
       "      <th>Norway</th>\n",
       "      <td>3427</td>\n",
       "      <td>9955.0</td>\n",
       "      <td>13.0</td>\n",
       "      <td>5</td>\n",
       "    </tr>\n",
       "    <tr>\n",
       "      <th>Argentina</th>\n",
       "      <td>584</td>\n",
       "      <td>3917.0</td>\n",
       "      <td>3.0</td>\n",
       "      <td>2</td>\n",
       "    </tr>\n",
       "    <tr>\n",
       "      <th>Belgium</th>\n",
       "      <td>2586</td>\n",
       "      <td>11795.0</td>\n",
       "      <td>11.0</td>\n",
       "      <td>6</td>\n",
       "    </tr>\n",
       "    <tr>\n",
       "      <th>Russia</th>\n",
       "      <td>1789</td>\n",
       "      <td>5907.0</td>\n",
       "      <td>8.0</td>\n",
       "      <td>3</td>\n",
       "    </tr>\n",
       "    <tr>\n",
       "      <th>Spain</th>\n",
       "      <td>299</td>\n",
       "      <td>1906.0</td>\n",
       "      <td>2.0</td>\n",
       "      <td>1</td>\n",
       "    </tr>\n",
       "    <tr>\n",
       "      <th>Hungary</th>\n",
       "      <td>332</td>\n",
       "      <td>1937.0</td>\n",
       "      <td>1.0</td>\n",
       "      <td>1</td>\n",
       "    </tr>\n",
       "    <tr>\n",
       "      <th>Portugal</th>\n",
       "      <td>696</td>\n",
       "      <td>3898.0</td>\n",
       "      <td>4.0</td>\n",
       "      <td>2</td>\n",
       "    </tr>\n",
       "    <tr>\n",
       "      <th>Australia</th>\n",
       "      <td>3977</td>\n",
       "      <td>11949.0</td>\n",
       "      <td>15.0</td>\n",
       "      <td>6</td>\n",
       "    </tr>\n",
       "    <tr>\n",
       "      <th>Israel</th>\n",
       "      <td>4068</td>\n",
       "      <td>10033.0</td>\n",
       "      <td>12.0</td>\n",
       "      <td>5</td>\n",
       "    </tr>\n",
       "    <tr>\n",
       "      <th>China</th>\n",
       "      <td>1756</td>\n",
       "      <td>4024.0</td>\n",
       "      <td>4.0</td>\n",
       "      <td>2</td>\n",
       "    </tr>\n",
       "  </tbody>\n",
       "</table>\n",
       "</div>"
      ],
      "text/plain": [
       "                                       id      year  share  number\n",
       "country                                                           \n",
       "Germany                             13313   98614.0   75.0      51\n",
       "the Netherlands                      2660   21416.0   19.0      11\n",
       "France                              15386   78498.0   86.0      40\n",
       "United Kingdom                      32092  178681.0  191.0      91\n",
       "USA                                174455  720168.0  865.0     363\n",
       "Alsace (then Germany, now France)      14    1909.0    2.0       1\n",
       "Sweden                               4904   33180.0   31.0      17\n",
       "Denmark                              2634   17571.0   17.0       9\n",
       "India                                  37    1930.0    1.0       1\n",
       "Austria                              1580   11609.0   10.0       6\n",
       "Italy                                1485   11729.0   11.0       6\n",
       "Japan                               13072   36034.0   54.0      18\n",
       "Ireland                                57    1951.0    2.0       1\n",
       "Federal Republic of Germany          6861   51271.0   61.0      26\n",
       "USSR                                 2912   21589.0   30.0      11\n",
       "Switzerland                          5971   43349.0   48.0      22\n",
       "Canada                               2477   13805.0   14.0       7\n",
       "Finland                               203    1945.0    1.0       1\n",
       "Czechoslovakia                        223    1959.0    1.0       1\n",
       "Norway                               3427    9955.0   13.0       5\n",
       "Argentina                             584    3917.0    3.0       2\n",
       "Belgium                              2586   11795.0   11.0       6\n",
       "Russia                               1789    5907.0    8.0       3\n",
       "Spain                                 299    1906.0    2.0       1\n",
       "Hungary                               332    1937.0    1.0       1\n",
       "Portugal                              696    3898.0    4.0       2\n",
       "Australia                            3977   11949.0   15.0       6\n",
       "Israel                               4068   10033.0   12.0       5\n",
       "China                                1756    4024.0    4.0       2"
      ]
     },
     "execution_count": 10,
     "metadata": {},
     "output_type": "execute_result"
    }
   ],
   "source": [
    "nobels_by_country = nobel.groupby('country',sort=False).sum()\n",
    "nobels_by_country"
   ]
  },
  {
   "cell_type": "markdown",
   "metadata": {},
   "source": [
    "Just look at the numbers"
   ]
  },
  {
   "cell_type": "code",
   "execution_count": 11,
   "metadata": {
    "collapsed": false
   },
   "outputs": [
    {
     "name": "stdout",
     "output_type": "stream",
     "text": [
      "<class 'pandas.core.frame.DataFrame'>\n",
      "<class 'pandas.core.series.Series'>\n"
     ]
    }
   ],
   "source": [
    "# extract Series from DataFrame:\n",
    "print(type(nobels_by_country))\n",
    "nobels_by_country = nobels_by_country[\"number\"]\n",
    "print(type(nobels_by_country))\n",
    "#nobels_by_country"
   ]
  },
  {
   "cell_type": "code",
   "execution_count": 12,
   "metadata": {
    "collapsed": false
   },
   "outputs": [
    {
     "data": {
      "text/plain": [
       "country\n",
       "Germany                               51\n",
       "the Netherlands                       11\n",
       "France                                40\n",
       "United Kingdom                        91\n",
       "USA                                  363\n",
       "Alsace (then Germany, now France)      1\n",
       "Sweden                                17\n",
       "Denmark                                9\n",
       "India                                  1\n",
       "Austria                                6\n",
       "Italy                                  6\n",
       "Japan                                 18\n",
       "Ireland                                1\n",
       "Federal Republic of Germany           26\n",
       "USSR                                  11\n",
       "Switzerland                           22\n",
       "Canada                                 7\n",
       "Finland                                1\n",
       "Czechoslovakia                         1\n",
       "Norway                                 5\n",
       "Argentina                              2\n",
       "Belgium                                6\n",
       "Russia                                 3\n",
       "Spain                                  1\n",
       "Hungary                                1\n",
       "Portugal                               2\n",
       "Australia                              6\n",
       "Israel                                 5\n",
       "China                                  2\n",
       "Name: number, dtype: int64"
      ]
     },
     "execution_count": 12,
     "metadata": {},
     "output_type": "execute_result"
    }
   ],
   "source": [
    "nobels_by_country"
   ]
  },
  {
   "cell_type": "markdown",
   "metadata": {},
   "source": [
    "Hmm, West Germany is listed separately. Let's unify Germany!"
   ]
  },
  {
   "cell_type": "code",
   "execution_count": 13,
   "metadata": {
    "collapsed": false
   },
   "outputs": [
    {
     "data": {
      "text/plain": [
       "country\n",
       "Germany                               77\n",
       "the Netherlands                       11\n",
       "France                                40\n",
       "United Kingdom                        91\n",
       "USA                                  363\n",
       "Alsace (then Germany, now France)      1\n",
       "Sweden                                17\n",
       "Denmark                                9\n",
       "India                                  1\n",
       "Austria                                6\n",
       "Italy                                  6\n",
       "Japan                                 18\n",
       "Ireland                                1\n",
       "USSR                                  11\n",
       "Switzerland                           22\n",
       "Canada                                 7\n",
       "Finland                                1\n",
       "Czechoslovakia                         1\n",
       "Norway                                 5\n",
       "Argentina                              2\n",
       "Belgium                                6\n",
       "Russia                                 3\n",
       "Spain                                  1\n",
       "Hungary                                1\n",
       "Portugal                               2\n",
       "Australia                              6\n",
       "Israel                                 5\n",
       "China                                  2\n",
       "Name: number, dtype: int64"
      ]
     },
     "execution_count": 13,
     "metadata": {},
     "output_type": "execute_result"
    }
   ],
   "source": [
    "nobel = nobel.replace(to_replace=\"Federal Republic of Germany\",value=\"Germany\")\n",
    "nobels_by_country = nobel.groupby('country',sort=False).sum()\n",
    "nobels_by_country = nobels_by_country[\"number\"]\n",
    "nobels_by_country"
   ]
  },
  {
   "cell_type": "markdown",
   "metadata": {},
   "source": [
    "How many prizes has Finland received?"
   ]
  },
  {
   "cell_type": "code",
   "execution_count": 14,
   "metadata": {
    "collapsed": true
   },
   "outputs": [],
   "source": [
    "nobels_by_country?"
   ]
  },
  {
   "cell_type": "code",
   "execution_count": 15,
   "metadata": {
    "collapsed": false
   },
   "outputs": [
    {
     "data": {
      "text/plain": [
       "1"
      ]
     },
     "execution_count": 15,
     "metadata": {},
     "output_type": "execute_result"
    }
   ],
   "source": [
    "nobels_by_country[\"Finland\"]"
   ]
  },
  {
   "cell_type": "markdown",
   "metadata": {},
   "source": [
    "Who was it?"
   ]
  },
  {
   "cell_type": "code",
   "execution_count": 16,
   "metadata": {
    "collapsed": false
   },
   "outputs": [],
   "source": [
    "nobel.loc?"
   ]
  },
  {
   "cell_type": "code",
   "execution_count": 17,
   "metadata": {
    "collapsed": false
   },
   "outputs": [
    {
     "data": {
      "text/html": [
       "<div>\n",
       "<table border=\"1\" class=\"dataframe\">\n",
       "  <thead>\n",
       "    <tr style=\"text-align: right;\">\n",
       "      <th></th>\n",
       "      <th>id</th>\n",
       "      <th>firstname</th>\n",
       "      <th>surname</th>\n",
       "      <th>born</th>\n",
       "      <th>died</th>\n",
       "      <th>bornCountry</th>\n",
       "      <th>bornCountryCode</th>\n",
       "      <th>bornCity</th>\n",
       "      <th>diedCountry</th>\n",
       "      <th>diedCountryCode</th>\n",
       "      <th>...</th>\n",
       "      <th>gender</th>\n",
       "      <th>year</th>\n",
       "      <th>category</th>\n",
       "      <th>overallMotivation</th>\n",
       "      <th>share</th>\n",
       "      <th>motivation</th>\n",
       "      <th>name</th>\n",
       "      <th>city</th>\n",
       "      <th>country</th>\n",
       "      <th>number</th>\n",
       "    </tr>\n",
       "  </thead>\n",
       "  <tbody>\n",
       "    <tr>\n",
       "      <th>212</th>\n",
       "      <td>203</td>\n",
       "      <td>Artturi Ilmari</td>\n",
       "      <td>Virtanen</td>\n",
       "      <td>1895-01-15</td>\n",
       "      <td>1973-11-11</td>\n",
       "      <td>Russian Empire (now Finland)</td>\n",
       "      <td>FI</td>\n",
       "      <td>Helsinki</td>\n",
       "      <td>Finland</td>\n",
       "      <td>FI</td>\n",
       "      <td>...</td>\n",
       "      <td>male</td>\n",
       "      <td>1945.0</td>\n",
       "      <td>chemistry</td>\n",
       "      <td>NaN</td>\n",
       "      <td>1.0</td>\n",
       "      <td>\"for his research and inventions in agricultur...</td>\n",
       "      <td>University of Helsinki</td>\n",
       "      <td>Helsinki</td>\n",
       "      <td>Finland</td>\n",
       "      <td>1</td>\n",
       "    </tr>\n",
       "  </tbody>\n",
       "</table>\n",
       "<p>1 rows × 21 columns</p>\n",
       "</div>"
      ],
      "text/plain": [
       "      id       firstname   surname        born        died  \\\n",
       "212  203  Artturi Ilmari  Virtanen  1895-01-15  1973-11-11   \n",
       "\n",
       "                      bornCountry bornCountryCode  bornCity diedCountry  \\\n",
       "212  Russian Empire (now Finland)              FI  Helsinki     Finland   \n",
       "\n",
       "    diedCountryCode  ...   gender    year   category overallMotivation share  \\\n",
       "212              FI  ...     male  1945.0  chemistry               NaN   1.0   \n",
       "\n",
       "                                            motivation  \\\n",
       "212  \"for his research and inventions in agricultur...   \n",
       "\n",
       "                       name      city  country number  \n",
       "212  University of Helsinki  Helsinki  Finland      1  \n",
       "\n",
       "[1 rows x 21 columns]"
      ]
     },
     "execution_count": 17,
     "metadata": {},
     "output_type": "execute_result"
    }
   ],
   "source": [
    "nobel.loc[nobel['country'] == \"Finland\"]\n"
   ]
  },
  {
   "cell_type": "code",
   "execution_count": null,
   "metadata": {
    "collapsed": true
   },
   "outputs": [],
   "source": []
  }
 ],
 "metadata": {
  "anaconda-cloud": {},
  "kernelspec": {
   "display_name": "Python [conda root]",
   "language": "python",
   "name": "conda-root-py"
  },
  "language_info": {
   "codemirror_mode": {
    "name": "ipython",
    "version": 2
   },
   "file_extension": ".py",
   "mimetype": "text/x-python",
   "name": "python",
   "nbconvert_exporter": "python",
   "pygments_lexer": "ipython2",
   "version": "2.7.12"
  }
 },
 "nbformat": 4,
 "nbformat_minor": 0
}
