{
 "cells": [
  {
   "cell_type": "markdown",
   "metadata": {
    "nbpresent": {
     "id": "b7064c7d-a630-4c29-995a-b220968cd23b"
    }
   },
   "source": [
    "# Introduction to Jupyter Notebooks"
   ]
  },
  {
   "cell_type": "markdown",
   "metadata": {
    "nbpresent": {
     "id": "1e944d3b-ce91-4566-b087-1cb93e713453"
    }
   },
   "source": [
    "## History\n",
    " - In 2014, Fernando Pérez announced a spin-off project from IPython called Project Jupyter. IPython will continue to exist as a Python shell and a kernel for Jupyter, while the notebook and other language-agnostic parts of IPython will move under the Jupyter name. Jupyter added support for Julia, R, Haskell and Ruby. [from wikipedia]\n",
    " - IPython is a command shell for interactive computing\n",
    "  - Terminal IPython as the familiar REPL (read-eval-print loop, i.e. and interactive toplevel language shell)\n",
    "  - The IPython kernel that provides computation and communication with the frontend interfaces, like the notebook\n",
    " - why \"Jupyter\"?\n",
    "  - Julia + Python + R\t\n",
    "  - also, Galileo's publication in a pamphlet in 1610 in Sidereus Nuncius (Starry Messanger) about observations of Jupiter's moons (Io, Europa, Ganymede and Callisto) is formulated as a notebook, with illustrations, text, calculations, titles, datapoints, images, reasoning... One of the first notebooks!\n",
    "\n",
    "  "
   ]
  },
  {
   "cell_type": "markdown",
   "metadata": {
    "nbpresent": {
     "id": "efb22781-95fd-4ce7-9374-6ec2e1e6cb66"
    }
   },
   "source": [
    "## Why use Jupyter?\n",
    " - use the Notebook for:\n",
    "  - complex analysis involving interactive experimentation\n",
    "  - keeping track of interactive sessions, like a lab notebook\n",
    "  - writing technical documentation involving code, equations, figures...\t\n",
    "  - sharing with colleagues\n",
    " - Example applications:\n",
    "  - Using the Notebook for data exploration\n",
    "  - Using extensions and widgets\n",
    "  - Using nbconvert for code execution and workflow simplification\n",
    "  - Using nbconvert for publishing\n",
    "  - Using multiple language kernels"
   ]
  },
  {
   "cell_type": "markdown",
   "metadata": {
    "nbpresent": {
     "id": "c554a788-1bbe-4615-8cb2-04a26dbb2986"
    }
   },
   "source": [
    "## Resources\n",
    " - https://github.com/ipython/ipython/wiki/A-gallery-of-interesting-IPython-Notebooks\n",
    " - http://ipython-books.github.io/minibook/\n",
    " - http://ipython-books.github.io/cookbook/\n",
    " - https://www.dataquest.io/blog/jupyter-notebook-tips-tricks-shortcuts/\n",
    " "
   ]
  },
  {
   "cell_type": "markdown",
   "metadata": {
    "nbpresent": {
     "id": "9f4b3184-edb8-4daf-8693-4bdf1f6feab8"
    }
   },
   "source": [
    "## Overview\n",
    " - Installing Jupyter\n",
    " - Getting familiar with notebooks\n",
    " - Real-world example: Signal processing with GW150914 open data\n",
    " - The power of Jupyter notebooks: *magics*\n",
    " - Plotting with matplotlib\n",
    " - Need for speed: mixing in Fortran and C\n",
    " - Running in parallel (OpenMP, ipyparallel)\n",
    " - Collaborative work: nbviewer, JupyterHub, ...\n",
    " - Future directions: JupyterLab, ..."
   ]
  },
  {
   "cell_type": "code",
   "execution_count": null,
   "metadata": {
    "collapsed": true,
    "nbpresent": {
     "id": "161e298f-896b-4490-9988-1c04b8d326d6"
    }
   },
   "outputs": [],
   "source": []
  }
 ],
 "metadata": {
  "anaconda-cloud": {},
  "kernelspec": {
   "display_name": "Python [conda root]",
   "language": "python",
   "name": "conda-root-py"
  },
  "language_info": {
   "codemirror_mode": {
    "name": "ipython",
    "version": 2
   },
   "file_extension": ".py",
   "mimetype": "text/x-python",
   "name": "python",
   "nbconvert_exporter": "python",
   "pygments_lexer": "ipython2",
   "version": "2.7.12"
  },
  "nbpresent": {
   "slides": {
    "30a07164-6051-402a-a8c7-c30e11a6e399": {
     "id": "30a07164-6051-402a-a8c7-c30e11a6e399",
     "prev": "6af13e71-17ba-4c3c-960a-01ed28e8a43f",
     "regions": {
      "5e65fea5-b0d9-4e44-8b5d-d9285a2fe80e": {
       "attrs": {
        "height": 1,
        "width": 1,
        "x": 0,
        "y": 0
       },
       "id": "5e65fea5-b0d9-4e44-8b5d-d9285a2fe80e"
      }
     }
    },
    "6af13e71-17ba-4c3c-960a-01ed28e8a43f": {
     "id": "6af13e71-17ba-4c3c-960a-01ed28e8a43f",
     "prev": null,
     "regions": {
      "ea5d03ee-4c96-4b6f-998c-ca04df408a19": {
       "attrs": {
        "height": 1,
        "width": 1,
        "x": 0,
        "y": 0
       },
       "content": {
        "cell": "b7064c7d-a630-4c29-995a-b220968cd23b",
        "part": "source"
       },
       "id": "ea5d03ee-4c96-4b6f-998c-ca04df408a19"
      }
     }
    }
   },
   "themes": {}
  }
 },
 "nbformat": 4,
 "nbformat_minor": 0
}
