{
 "cells": [
  {
   "cell_type": "markdown",
   "metadata": {},
   "source": [
    "# Introduction to Jupyter Notebooks"
   ]
  },
  {
   "cell_type": "markdown",
   "metadata": {},
   "source": [
    "## History\n",
    " - In 2014, Fernando Pérez announced a spin-off project from IPython called Project Jupyter. IPython will continue to exist as a Python shell and a kernel for Jupyter, while the notebook and other language-agnostic parts of IPython will move under the Jupyter name. Jupyter added support for Julia, R, Haskell and Ruby. [from wikipedia]\n",
    " - IPython is a command shell for interactive computing\n",
    "  - Terminal IPython as the familiar REPL (read-eval-print loop, i.e. and interactive toplevel language shell)\n",
    "  - The IPython kernel that provides computation and communication with the frontend interfaces, like the notebook\n",
    " - why \"Jupyter\"?\n",
    "  - Julia + Python + R\t\n",
    "  - also, Galileo's publication in a pamphlet in 1610 in Sidereus Nuncius (Starry Messanger) about observations of Jupiter's moons (Io, Europa, Ganymede and Callisto) is formulated as a notebook, with illustrations, text, calculations, titles, datapoints, images, reasoning... One of the first notebooks!\n",
    "\n",
    "  "
   ]
  },
  {
   "cell_type": "markdown",
   "metadata": {},
   "source": [
    "## Why use Jupyter?\n",
    " - use the Notebook for:\n",
    "  - complex analysis involving interactive experimentation\n",
    "  - keeping track of interactive sessions, like a lab notebook\n",
    "  - writing technical documentation involving code, equations, figures...\t\n",
    "  - sharing with colleagues\n",
    " - Example applications:\n",
    "  - Using the Notebook for data exploration\n",
    "  - Using extensions and widgets\n",
    "  - Using nbconvert for code execution and workflow simplification\n",
    "  - Using nbconvert for publishing\n",
    "  - Using multiple language kernels"
   ]
  },
  {
   "cell_type": "markdown",
   "metadata": {},
   "source": [
    "## Resources\n",
    " - https://github.com/ipython/ipython/wiki/A-gallery-of-interesting-IPython-Notebooks\n",
    " - http://ipython-books.github.io/minibook/\n",
    " - http://ipython-books.github.io/cookbook/\n",
    " - https://www.dataquest.io/blog/jupyter-notebook-tips-tricks-shortcuts/\n",
    " "
   ]
  },
  {
   "cell_type": "markdown",
   "metadata": {},
   "source": [
    "## Overview\n",
    " - Installation and configuration of Jupyter\n",
    " - Getting familiar with notebooks\n",
    " - Real-world example: Signal processing with GW150914 open data\n",
    " - The real power of Jupyter notebooks: *magics*\n",
    " - Need for speed: mixing in Fortran and C"
   ]
  },
  {
   "cell_type": "code",
   "execution_count": null,
   "metadata": {
    "collapsed": true
   },
   "outputs": [],
   "source": []
  }
 ],
 "metadata": {
  "kernelspec": {
   "display_name": "Python [conda root]",
   "language": "python",
   "name": "conda-root-py"
  },
  "language_info": {
   "codemirror_mode": {
    "name": "ipython",
    "version": 2
   },
   "file_extension": ".py",
   "mimetype": "text/x-python",
   "name": "python",
   "nbconvert_exporter": "python",
   "pygments_lexer": "ipython2",
   "version": "2.7.12"
  }
 },
 "nbformat": 4,
 "nbformat_minor": 0
}
