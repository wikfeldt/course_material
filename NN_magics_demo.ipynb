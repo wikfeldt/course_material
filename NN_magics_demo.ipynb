{
 "cells": [
  {
   "cell_type": "code",
   "execution_count": 1,
   "metadata": {
    "collapsed": true
   },
   "outputs": [],
   "source": [
    "import numpy as np"
   ]
  },
  {
   "cell_type": "markdown",
   "metadata": {},
   "source": [
    "### %timeit"
   ]
  },
  {
   "cell_type": "code",
   "execution_count": 2,
   "metadata": {
    "collapsed": false
   },
   "outputs": [
    {
     "name": "stdout",
     "output_type": "stream",
     "text": [
      "The slowest run took 7.05 times longer than the fastest. This could mean that an intermediate result is being cached.\n",
      "100 loops, best of 3: 4.79 ms per loop\n"
     ]
    }
   ],
   "source": [
    "%timeit np.linalg.eigvals(np.random.rand(100,100))"
   ]
  },
  {
   "cell_type": "code",
   "execution_count": 3,
   "metadata": {
    "collapsed": false
   },
   "outputs": [
    {
     "name": "stdout",
     "output_type": "stream",
     "text": [
      "100 loops, best of 3: 5.03 ms per loop\n"
     ]
    }
   ],
   "source": [
    "%%timeit \n",
    "a = np.random.rand(100, 100)\n",
    "np.linalg.eigvals(a)"
   ]
  },
  {
   "cell_type": "markdown",
   "metadata": {},
   "source": [
    "### %capture\n"
   ]
  },
  {
   "cell_type": "code",
   "execution_count": 7,
   "metadata": {
    "collapsed": false
   },
   "outputs": [],
   "source": [
    "%%capture?"
   ]
  },
  {
   "cell_type": "code",
   "execution_count": 4,
   "metadata": {
    "collapsed": true
   },
   "outputs": [],
   "source": [
    "%%capture output\n",
    "%ls"
   ]
  },
  {
   "cell_type": "code",
   "execution_count": 5,
   "metadata": {
    "collapsed": false
   },
   "outputs": [
    {
     "data": {
      "text/plain": [
       "(u'00_introduction.html         bar.html\\r\\n00_introduction.pdf          contour_demo.py\\r\\n00_introduction.slides.html  \\x1b[34mexample_notebooks\\x1b[m\\x1b[m/\\r\\n00_slides.ipynb              foo.py\\r\\n01_firststeps                \\x1b[34mimg\\x1b[m\\x1b[m/\\r\\n01_firststeps.ipynb          mynotes.mkd\\r\\n04_cython.ipynb              mynotes.mkd~\\r\\n\\x1b[34mGW\\x1b[m\\x1b[m/                          notes.mkd\\r\\nNN_fortran_cython.ipynb      notes.mkd~\\r\\nNN_magics.ipynb              prun0\\r\\nNN_matplotlib.ipynb          prun1\\r\\nNN_parallel.ipynb            py3.list\\r\\nNN_profiling.ipynb           py35.list\\r\\nNN_widgets.ipynb             solutions.ipynb\\r\\nREADME.md                    \\x1b[34mtest\\x1b[m\\x1b[m/\\r\\nUntitled.ipynb               \\x1b[34mtestdirectory\\x1b[m\\x1b[m/\\r\\nUntitled1.ipynb              testing.ipynb\\r\\nUntitled2.ipynb              untitled.py\\r\\nUntitled3.ipynb              untitled.txt\\r\\nUntitled4.ipynb              untitled1.txt\\r\\n',\n",
       " '')"
      ]
     },
     "execution_count": 5,
     "metadata": {},
     "output_type": "execute_result"
    }
   ],
   "source": [
    "output.stdout, output.stderr    "
   ]
  },
  {
   "cell_type": "code",
   "execution_count": 8,
   "metadata": {
    "collapsed": false
   },
   "outputs": [
    {
     "name": "stdout",
     "output_type": "stream",
     "text": [
      "00_introduction.html         bar.html\r\n",
      "00_introduction.pdf          contour_demo.py\r\n",
      "00_introduction.slides.html  \u001b[34mexample_notebooks\u001b[m\u001b[m/\r\n",
      "00_slides.ipynb              foo.py\r\n",
      "01_firststeps                \u001b[34mimg\u001b[m\u001b[m/\r\n",
      "01_firststeps.ipynb          mynotes.mkd\r\n",
      "04_cython.ipynb              mynotes.mkd~\r\n",
      "\u001b[34mGW\u001b[m\u001b[m/                          notes.mkd\r\n",
      "NN_fortran_cython.ipynb      notes.mkd~\r\n",
      "NN_magics.ipynb              prun0\r\n",
      "NN_matplotlib.ipynb          prun1\r\n",
      "NN_parallel.ipynb            py3.list\r\n",
      "NN_profiling.ipynb           py35.list\r\n",
      "NN_widgets.ipynb             solutions.ipynb\r\n",
      "README.md                    \u001b[34mtest\u001b[m\u001b[m/\r\n",
      "Untitled.ipynb               \u001b[34mtestdirectory\u001b[m\u001b[m/\r\n",
      "Untitled1.ipynb              testing.ipynb\r\n",
      "Untitled2.ipynb              untitled.py\r\n",
      "Untitled3.ipynb              untitled.txt\r\n",
      "Untitled4.ipynb              untitled1.txt\r\n"
     ]
    }
   ],
   "source": [
    "output.show()"
   ]
  },
  {
   "cell_type": "markdown",
   "metadata": {},
   "source": [
    "### %writefile"
   ]
  },
  {
   "cell_type": "code",
   "execution_count": 9,
   "metadata": {
    "collapsed": false
   },
   "outputs": [
    {
     "name": "stdout",
     "output_type": "stream",
     "text": [
      "Overwriting foo.py\n"
     ]
    }
   ],
   "source": [
    "%%writefile foo.py\n",
    "print('Hello world')"
   ]
  },
  {
   "cell_type": "markdown",
   "metadata": {},
   "source": [
    "### %run "
   ]
  },
  {
   "cell_type": "code",
   "execution_count": 10,
   "metadata": {
    "collapsed": false
   },
   "outputs": [
    {
     "name": "stdout",
     "output_type": "stream",
     "text": [
      "Hello world\n"
     ]
    }
   ],
   "source": [
    "%run foo"
   ]
  },
  {
   "cell_type": "markdown",
   "metadata": {},
   "source": [
    "### %env"
   ]
  },
  {
   "cell_type": "code",
   "execution_count": 11,
   "metadata": {
    "collapsed": false
   },
   "outputs": [
    {
     "name": "stdout",
     "output_type": "stream",
     "text": [
      "env: OMP_NUM_THREADS=4\n"
     ]
    }
   ],
   "source": [
    "%env OMP_NUM_THREADS=4"
   ]
  },
  {
   "cell_type": "markdown",
   "metadata": {},
   "source": [
    "### %store"
   ]
  },
  {
   "cell_type": "code",
   "execution_count": null,
   "metadata": {
    "collapsed": true
   },
   "outputs": [],
   "source": [
    "data = 'string to pass to a different notebook'\n",
    "%store data\n",
    "del data # This has deleted the variable"
   ]
  },
  {
   "cell_type": "markdown",
   "metadata": {},
   "source": [
    "### Shell commands"
   ]
  },
  {
   "cell_type": "code",
   "execution_count": 13,
   "metadata": {
    "collapsed": false
   },
   "outputs": [
    {
     "name": "stdout",
     "output_type": "stream",
     "text": [
      "hello\r\n"
     ]
    }
   ],
   "source": [
    "!echo \"hello\""
   ]
  },
  {
   "cell_type": "code",
   "execution_count": 14,
   "metadata": {
    "collapsed": true
   },
   "outputs": [],
   "source": [
    "%sx?"
   ]
  },
  {
   "cell_type": "code",
   "execution_count": 15,
   "metadata": {
    "collapsed": true
   },
   "outputs": [],
   "source": [
    "ls_out = %sx ls\n",
    "ls_out?"
   ]
  },
  {
   "cell_type": "code",
   "execution_count": 16,
   "metadata": {
    "collapsed": true
   },
   "outputs": [],
   "source": [
    "ls_out2 = !ls # same thing as above"
   ]
  },
  {
   "cell_type": "code",
   "execution_count": 17,
   "metadata": {
    "collapsed": false
   },
   "outputs": [
    {
     "name": "stdout",
     "output_type": "stream",
     "text": [
      "\u001b[31mDEPRECATION: The default format will switch to columns in the future. You can use --format=(legacy|columns) (or define a format=(legacy|columns) in your pip.conf under the [list] section) to disable this warning.\u001b[0m\n",
      "alabaster (0.7.8)\n",
      "aldjemy (0.6.0)\n",
      "amqp (1.4.9)\n",
      "anaconda-client (1.4.0)\n",
      "anaconda-navigator (1.2.1)\n",
      "anyjson (0.3.3)\n",
      "appnope (0.1.0)\n",
      "appscript (1.0.1)\n",
      "argcomplete (1.0.0)\n",
      "astropy (1.2.1)\n",
      "Babel (2.3.3)\n",
      "backports-abc (0.4)\n",
      "backports.shutil-get-terminal-size (1.0.0)\n",
      "backports.ssl-match-hostname (3.4.0.2)\n",
      "beautifulsoup4 (4.4.1)\n",
      "billiard (3.3.0.19)\n",
      "bitarray (0.8.1)\n",
      "blaze (0.10.1)\n",
      "bokeh (0.12.0)\n",
      "boto (2.40.0)\n",
      "Bottleneck (1.1.0)\n",
      "cdecimal (2.3)\n",
      "celery (3.1.17)\n",
      "cffi (1.8.2)\n",
      "chest (0.2.3)\n",
      "click (6.6)\n",
      "cloudpickle (0.2.1)\n",
      "clyent (1.2.2)\n",
      "colorama (0.3.7)\n",
      "conda (4.2.13)\n",
      "conda-build (1.21.3)\n",
      "configobj (5.0.6)\n",
      "configparser (3.5.0b2)\n",
      "contextlib2 (0.5.3)\n",
      "cryptography (1.5)\n",
      "cycler (0.10.0)\n",
      "Cython (0.24)\n",
      "cytoolz (0.8.0)\n",
      "dask (0.10.0)\n",
      "datashape (0.5.2)\n",
      "decorator (4.0.10)\n",
      "dill (0.2.5)\n",
      "Django (1.7.4)\n",
      "django-celery (3.1.16)\n",
      "django-extensions (1.5.0)\n",
      "django-tastypie (0.12.1)\n",
      "docutils (0.12)\n",
      "dynd (0.7.3.dev1)\n",
      "ecdsa (0.13)\n",
      "enum34 (1.1.6)\n",
      "et-xmlfile (1.0.1)\n",
      "ete3 (3.0.0b35)\n",
      "fastcache (1.0.2)\n",
      "Flask (0.11.1)\n",
      "Flask-Cors (2.1.2)\n",
      "fortran-magic (0.7)\n",
      "frozendict (1.0)\n",
      "funcsigs (1.0.2)\n",
      "functools32 (3.2.3.post2)\n",
      "futures (3.0.5)\n",
      "gevent (1.1.1)\n",
      "greenlet (0.4.10)\n",
      "grin (1.2.1)\n",
      "h5py (2.6.0)\n",
      "HeapDict (1.0.0)\n",
      "idna (2.1)\n",
      "imagesize (0.7.1)\n",
      "ipaddress (1.0.16)\n",
      "ipykernel (4.3.1)\n",
      "ipyparallel (5.2.0)\n",
      "ipython (5.1.0)\n",
      "ipython-genutils (0.1.0)\n",
      "ipywidgets (4.1.1)\n",
      "itsdangerous (0.24)\n",
      "jdcal (1.2)\n",
      "jedi (0.9.0)\n",
      "Jinja2 (2.8)\n",
      "jsonschema (2.5.1)\n",
      "julia (0.1.1)\n",
      "jupyter (1.0.0)\n",
      "jupyter-client (4.3.0)\n",
      "jupyter-console (4.1.1)\n",
      "jupyter-core (4.1.0)\n",
      "kombu (3.0.35)\n",
      "llvmlite (0.14.0)\n",
      "locket (0.2.0)\n",
      "lxml (3.6.0)\n",
      "MarkupSafe (0.23)\n",
      "matplotlib (1.5.1)\n",
      "meld3 (1.0.0)\n",
      "mistune (0.7.2)\n",
      "mpmath (0.19)\n",
      "multipledispatch (0.4.8)\n",
      "nb-anacondacloud (1.2.0)\n",
      "nb-conda (2.0.0)\n",
      "nb-conda-kernels (2.0.0)\n",
      "nbconvert (4.2.0)\n",
      "nbformat (4.0.1)\n",
      "nbpresent (3.0.2)\n",
      "networkx (1.11)\n",
      "nltk (3.2.1)\n",
      "nose (1.3.7)\n",
      "notebook (4.2.1)\n",
      "numba (0.29.0+0.gead0dd3.dirty)\n",
      "numexpr (2.6.0)\n",
      "numpy (1.11.2)\n",
      "odo (0.5.0)\n",
      "openpyxl (2.3.2)\n",
      "pandas (0.18.1)\n",
      "paramiko (2.0.2)\n",
      "partd (0.3.4)\n",
      "passlib (1.6.5)\n",
      "path.py (0.0.0)\n",
      "pathlib2 (2.1.0)\n",
      "patsy (0.4.1)\n",
      "pep8 (1.7.0)\n",
      "pexpect (4.2.1)\n",
      "pickleshare (0.7.4)\n",
      "Pillow (3.2.0)\n",
      "pip (9.0.1)\n",
      "plum (0.4.3)\n",
      "ply (3.8)\n",
      "prompt-toolkit (1.0.9)\n",
      "psutil (4.3.0)\n",
      "ptyprocess (0.5.1)\n",
      "py (1.4.31)\n",
      "pyasn1 (0.1.9)\n",
      "PyAudio (0.2.7)\n",
      "pycosat (0.6.1)\n",
      "pycparser (2.14)\n",
      "pycrypto (2.6.1)\n",
      "pycurl (7.43.0)\n",
      "pyflakes (1.2.3)\n",
      "Pygments (2.1.3)\n",
      "pyOpenSSL (16.0.0)\n",
      "pyparsing (2.1.4)\n",
      "pytest (2.9.2)\n",
      "python-dateutil (2.4.0)\n",
      "python-gssapi (0.6.4)\n",
      "python-mimeparse (0.1.4)\n",
      "pytz (2014.10)\n",
      "PyYAML (3.11)\n",
      "pyzmq (15.2.0)\n",
      "qtconsole (4.2.1)\n",
      "QtPy (1.0.2)\n",
      "redis (2.10.5)\n",
      "requests (2.10.0)\n",
      "rise (4.0.0b1)\n",
      "rope (0.9.4)\n",
      "rpy2 (2.8.4)\n",
      "ruamel-yaml (-VERSION)\n",
      "scikit-image (0.12.3)\n",
      "scikit-learn (0.17.1)\n",
      "scipy (0.17.1)\n",
      "seaborn (0.7.1)\n",
      "setuptools (28.8.0)\n",
      "simplegeneric (0.8.1)\n",
      "singledispatch (3.4.0.3)\n",
      "six (1.10.0)\n",
      "snowballstemmer (1.2.1)\n",
      "sockjs-tornado (1.0.3)\n",
      "Sphinx (1.4.1)\n",
      "sphinx-rtd-theme (0.1.9)\n",
      "spyder (2.3.9)\n",
      "SQLAlchemy (1.0.12)\n",
      "SQLAlchemy-Utils (0.31.2)\n",
      "statsmodels (0.6.1)\n",
      "supervisor (3.1.3)\n",
      "sympy (1.0)\n",
      "tables (3.2.2)\n",
      "tabulate (0.7.5)\n",
      "terminado (0.6)\n",
      "toolz (0.8.0)\n",
      "tornado (4.3)\n",
      "traitlets (4.3.1)\n",
      "ultrajson (1.35)\n",
      "unicodecsv (0.14.1)\n",
      "validate-email (1.3)\n",
      "virtualenv (15.0.3)\n",
      "voluptuous (0.8.11)\n",
      "wcwidth (0.1.7)\n",
      "Werkzeug (0.11.10)\n",
      "wheel (0.29.0)\n",
      "xlrd (1.0.0)\n",
      "XlsxWriter (0.9.2)\n",
      "xlwings (0.7.2)\n",
      "xlwt (1.1.2)\n"
     ]
    }
   ],
   "source": [
    "!pip list\n"
   ]
  },
  {
   "cell_type": "code",
   "execution_count": null,
   "metadata": {
    "collapsed": true
   },
   "outputs": [],
   "source": []
  }
 ],
 "metadata": {
  "kernelspec": {
   "display_name": "Python [conda root]",
   "language": "python",
   "name": "conda-root-py"
  },
  "language_info": {
   "codemirror_mode": {
    "name": "ipython",
    "version": 2
   },
   "file_extension": ".py",
   "mimetype": "text/x-python",
   "name": "python",
   "nbconvert_exporter": "python",
   "pygments_lexer": "ipython2",
   "version": "2.7.12"
  }
 },
 "nbformat": 4,
 "nbformat_minor": 0
}
